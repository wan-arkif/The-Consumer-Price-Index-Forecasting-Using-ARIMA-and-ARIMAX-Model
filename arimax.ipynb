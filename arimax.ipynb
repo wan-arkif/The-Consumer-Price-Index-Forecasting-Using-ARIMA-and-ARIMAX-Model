{
 "cells": [
  {
   "cell_type": "code",
   "execution_count": 34,
   "id": "8b590561-36c0-44f4-b9f8-f58f746f9951",
   "metadata": {},
   "outputs": [],
   "source": [
    "import pandas as pd\n",
    "import numpy as np \n",
    "import matplotlib.pyplot as plt\n",
    "from statsmodels.graphics.tsaplots import plot_acf, plot_pacf\n",
    "from statsmodels.tsa.stattools import adfuller\n",
    "from scipy import stats\n",
    "from statsmodels.tsa.arima.model import ARIMA\n",
    "from statsmodels.tsa.statespace.sarimax import SARIMAX\n",
    "import scipy.stats as stats\n",
    "from sklearn.metrics import mean_squared_error\n",
    "from sklearn.metrics import r2_score"
   ]
  },
  {
   "cell_type": "code",
   "execution_count": 50,
   "id": "7169b881-fd71-4848-b0a7-6a73889ec637",
   "metadata": {},
   "outputs": [],
   "source": [
    "data = pd.read_csv('/Users/1hundredeyes/factors_cpi_new.csv')"
   ]
  },
  {
   "cell_type": "code",
   "execution_count": 52,
   "id": "3ef02f92-b260-4bf3-b2e5-2f5aaeaa51e5",
   "metadata": {},
   "outputs": [],
   "source": [
    "data[\"month\"] = pd.to_datetime(data[\"month\"]) \n",
    "data.set_index(\"month\", inplace = True) \n",
    "data = data.asfreq('MS') "
   ]
  },
  {
   "cell_type": "code",
   "execution_count": 54,
   "id": "936741a7-6422-4a72-9868-0e8cc367f882",
   "metadata": {},
   "outputs": [],
   "source": [
    "data = data.drop(data.loc['2023':].index)"
   ]
  },
  {
   "cell_type": "code",
   "execution_count": 56,
   "id": "714cda19-3f7a-49e0-a608-9e81821d9452",
   "metadata": {},
   "outputs": [],
   "source": [
    "data = np.log(data)"
   ]
  },
  {
   "cell_type": "code",
   "execution_count": 58,
   "id": "b455ed88-e43f-44c0-8eda-a223cc7bac8b",
   "metadata": {},
   "outputs": [],
   "source": [
    "split_date = \"2018-12-01\"\n",
    "data_train = data[:split_date] \n",
    "data_test = data[split_date:].iloc[1:]"
   ]
  },
  {
   "cell_type": "code",
   "execution_count": null,
   "id": "12ddacbd-5f62-4426-bcdd-2a77ac416c69",
   "metadata": {},
   "outputs": [],
   "source": [
    "plt.figure(figsize=(6,4))\n",
    "plt.scatter(data['xrt'],data['cpi'] , color='blue', s=20,  alpha=0.6, edgecolors='k')\n",
    "slope, intercept, rvalue, pvalue, stderr = stats.linregress(data['xrt'],data['cpi'])\n",
    "plt.plot(data['xrt'], slope * data['xrt'] + intercept, color='red')\n",
    "plt.text(min(data['xrt']) + (max(data['xrt']) - min(data['xrt'])) * 0.05, max(data['cpi']) - (max(data['cpi']) - min(data['cpi'])) * 0.1, \n",
    "         f\"$R^2$ = {rvalue ** 2:.2f}\", fontsize=12, color='black', bbox=dict(facecolor='white', alpha=0.5))\n",
    "plt.xlabel('Exchange Rate of Bath to USD')\n",
    "plt.ylabel('Consumer Price Index')\n",
    "plt.title('Consumer Price Index VS Exchange Rate of Bath to USD')\n",
    "plt.show()\n",
    "\n",
    "plt.figure(figsize=(6,4))\n",
    "plt.scatter(data['m2'],data['cpi'] , color='blue', s=20,  alpha=0.6, edgecolors='k')\n",
    "slope, intercept, rvalue, pvalue, stderr = stats.linregress(data['m2'],data['cpi'])\n",
    "plt.text(min(data['m2']) + (max(data['m2']) - min(data['m2'])) * 0.05, max(data['cpi']) - (max(data['cpi']) - min(data['cpi'])) * 0.1, \n",
    "         f\"$R^2$ = {rvalue ** 2:.2f}\", fontsize=12, color='black', bbox=dict(facecolor='white', alpha=0.5))\n",
    "plt.plot(data['m2'], slope * data['m2'] + intercept, color='red')\n",
    "plt.xlabel('Broad Money')\n",
    "plt.ylabel('Consumer Price Index')\n",
    "plt.title('Consumer Price Index VS Broad Money')\n",
    "plt.show()\n",
    "\n",
    "plt.figure(figsize=(6,4))\n",
    "plt.scatter(data['policy_rate'],data['cpi'] , color='blue', s=20,  alpha=0.6, edgecolors='k')\n",
    "slope, intercept, rvalue, pvalue, stderr = stats.linregress(data['policy_rate'],data['cpi'])\n",
    "plt.plot(data['policy_rate'], slope * data['policy_rate'] + intercept, color='red')\n",
    "plt.text(min(data['policy_rate']) + (max(data['policy_rate']) - min(data['policy_rate'])) * 0.05, max(data['cpi']) - (max(data['cpi']) - min(data['cpi'])) * 0.1, \n",
    "         f\"$R^2$ = {rvalue ** 2:.2f}\", fontsize=12, color='black', bbox=dict(facecolor='white', alpha=0.5))\n",
    "plt.xlabel('Policy Rate')\n",
    "plt.ylabel('Consumer Price Index')\n",
    "plt.title('Consumer Price Index VS Policy Rate')\n",
    "plt.show()\n",
    "\n",
    "plt.figure(figsize=(6,4))\n",
    "plt.scatter(data['export'],data['cpi'] , color='blue', s=20,  alpha=0.6, edgecolors='k')\n",
    "slope, intercept, rvalue, pvalue, stderr = stats.linregress(data['export'],data['cpi'])\n",
    "plt.plot(data['export'], slope * data['export'] + intercept, color='red')\n",
    "plt.text(min(data['export']) + (max(data['export']) - min(data['export'])) * 0.05, max(data['cpi']) - (max(data['cpi']) - min(data['cpi'])) * 0.1, \n",
    "         f\"$R^2$ = {rvalue ** 2:.2f}\", fontsize=12, color='black', bbox=dict(facecolor='white', alpha=0.5))\n",
    "plt.xlabel('Export')\n",
    "plt.ylabel('Consumer Price Index')\n",
    "plt.title('Consumer Price Index VS Export')\n",
    "plt.show()\n",
    "\n",
    "plt.figure(figsize=(6,4))\n",
    "plt.scatter(data['import'],data['cpi'] , color='blue', s=20,  alpha=0.6, edgecolors='k')\n",
    "slope, intercept, rvalue, pvalue, stderr = stats.linregress(data['import'],data['cpi'])\n",
    "plt.plot(data['import'], slope * data['import'] + intercept, color='red')\n",
    "plt.text(min(data['import']) + (max(data['import']) - min(data['import'])) * 0.05, max(data['cpi']) - (max(data['cpi']) - min(data['cpi'])) * 0.1, \n",
    "         f\"$R^2$ = {rvalue ** 2:.2f}\", fontsize=12, color='black', bbox=dict(facecolor='white', alpha=0.5))\n",
    "plt.xlabel('Import')\n",
    "plt.ylabel('Consumer Price Index')\n",
    "plt.title('Consumer Price Index VS Import')\n",
    "plt.show()"
   ]
  },
  {
   "cell_type": "code",
   "execution_count": null,
   "id": "c00ebe57-3381-44a4-9602-35830db7c068",
   "metadata": {},
   "outputs": [],
   "source": [
    "x_train, x_test = data_train[['xrt', 'm2', 'export', 'import']], data_test[['xrt', 'm2', 'export', 'import']]\n",
    "y_train, y_test = data_train['cpi'], data_test['cpi']"
   ]
  },
  {
   "cell_type": "code",
   "execution_count": 62,
   "id": "79e98f62-da7f-415e-8055-b3027769d4a0",
   "metadata": {},
   "outputs": [
    {
     "name": "stderr",
     "output_type": "stream",
     "text": [
      "/var/folders/j4/9cv4ksxd5p11m01b59qb0wyw0000gn/T/ipykernel_4929/3303962367.py:1: SettingWithCopyWarning: \n",
      "A value is trying to be set on a copy of a slice from a DataFrame.\n",
      "Try using .loc[row_indexer,col_indexer] = value instead\n",
      "\n",
      "See the caveats in the documentation: https://pandas.pydata.org/pandas-docs/stable/user_guide/indexing.html#returning-a-view-versus-a-copy\n",
      "  data_train[\"m2_diff1\"] = data_train[\"m2\"].diff()\n",
      "/var/folders/j4/9cv4ksxd5p11m01b59qb0wyw0000gn/T/ipykernel_4929/3303962367.py:2: SettingWithCopyWarning: \n",
      "A value is trying to be set on a copy of a slice from a DataFrame\n",
      "\n",
      "See the caveats in the documentation: https://pandas.pydata.org/pandas-docs/stable/user_guide/indexing.html#returning-a-view-versus-a-copy\n",
      "  data_train.dropna(inplace = True)\n"
     ]
    }
   ],
   "source": [
    "data_train[\"m2_diff1\"] = data_train[\"m2\"].diff()\n",
    "data_train.dropna(inplace = True)"
   ]
  },
  {
   "cell_type": "code",
   "execution_count": null,
   "id": "250d4cdb-a461-41ee-a7d1-1b8969999ac1",
   "metadata": {},
   "outputs": [],
   "source": [
    "data_train[\"cpi_diff1\"] = data_train[\"cpi\"].diff()\n",
    "data_train.dropna(inplace = True)"
   ]
  },
  {
   "cell_type": "code",
   "execution_count": null,
   "id": "5b98980f-a1ff-4800-860a-54f12ea42719",
   "metadata": {},
   "outputs": [],
   "source": [
    "def stepwise_selection(x_train, y_train, threshold_in=0.05, threshold_out=0.1):\n",
    "    initial_features = list(x_train.columns)  # ใช้ x_train แทน X\n",
    "    best_features = []\n",
    "\n",
    "    while True:\n",
    "        changed = False\n",
    "\n",
    "        remaining_features = list(set(initial_features) - set(best_features))\n",
    "        new_pval = pd.Series(index=remaining_features, dtype=float)\n",
    "        for new_column in remaining_features:\n",
    "            model = sm.OLS(y_train, sm.add_constant(x_train[best_features + [new_column]])).fit()\n",
    "            new_pval[new_column] = model.pvalues[new_column]\n",
    "\n",
    "        if not new_pval.empty and new_pval.min() < threshold_in:\n",
    "            best_feature = new_pval.idxmin()\n",
    "            best_features.append(best_feature)\n",
    "            changed = True\n",
    "\n",
    "        # Backward Elimination: ลองลบตัวแปรที่มีค่า p-value สูงเกิน threshold_out\n",
    "        model = sm.OLS(y_train, sm.add_constant(x_train[best_features])).fit()\n",
    "        pvalues = model.pvalues.iloc[1:]  # ไม่รวม intercept\n",
    "        worst_pval = pvalues.max()\n",
    "\n",
    "        if worst_pval > threshold_out:\n",
    "            worst_feature = pvalues.idxmax()\n",
    "            best_features.remove(worst_feature)\n",
    "            changed = True\n",
    "\n",
    "        if not changed:\n",
    "            break\n",
    "\n",
    "    return best_features\n",
    "\n",
    "selected_features = stepwise_selection(x_train, y_train)\n",
    "print(\"Selected Features:\", selected_features)"
   ]
  },
  {
   "cell_type": "code",
   "execution_count": 84,
   "id": "796dc206-9095-4155-8a4b-4bba976b0e16",
   "metadata": {},
   "outputs": [
    {
     "name": "stderr",
     "output_type": "stream",
     "text": [
      " This problem is unconstrained.\n"
     ]
    },
    {
     "name": "stdout",
     "output_type": "stream",
     "text": [
      "RUNNING THE L-BFGS-B CODE\n",
      "\n",
      "           * * *\n",
      "\n",
      "Machine precision = 2.220D-16\n",
      " N =            4     M =           10\n",
      "\n",
      "At X0         0 variables are exactly at the bounds\n",
      "\n",
      "At iterate    0    f= -3.33804D+00    |proj g|=  4.73127D+01\n",
      "\n",
      "At iterate    5    f= -3.34692D+00    |proj g|=  4.25494D-01\n",
      "\n",
      "           * * *\n",
      "\n",
      "Tit   = total number of iterations\n",
      "Tnf   = total number of function evaluations\n",
      "Tnint = total number of segments explored during Cauchy searches\n",
      "Skip  = number of BFGS updates skipped\n",
      "Nact  = number of active bounds at final generalized Cauchy point\n",
      "Projg = norm of the final projected gradient\n",
      "F     = final function value\n",
      "\n",
      "           * * *\n",
      "\n",
      "   N    Tit     Tnf  Tnint  Skip  Nact     Projg        F\n",
      "    4      6     61      2     0     0   4.255D-01  -3.347D+00\n",
      "  F =  -3.3469193808452906     \n",
      "\n",
      "ABNORMAL_TERMINATION_IN_LNSRCH                              \n",
      "                                     SARIMAX Results                                      \n",
      "==========================================================================================\n",
      "Dep. Variable:                                cpi   No. Observations:                  107\n",
      "Model:             SARIMAX(1, 1, 0)x(1, 1, 0, 12)   Log Likelihood                 358.120\n",
      "Date:                            Fri, 14 Feb 2025   AIC                           -708.241\n",
      "Time:                                    22:34:45   BIC                           -698.663\n",
      "Sample:                                02-01-2010   HQIC                          -704.398\n",
      "                                     - 12-01-2018                                         \n",
      "Covariance Type:                              opg                                         \n",
      "==============================================================================\n",
      "                 coef    std err          z      P>|z|      [0.025      0.975]\n",
      "------------------------------------------------------------------------------\n",
      "m2             0.0637      0.054      1.173      0.241      -0.043       0.170\n",
      "ar.L1          0.2484      0.096      2.598      0.009       0.061       0.436\n",
      "ar.S.L12      -0.4404      0.092     -4.786      0.000      -0.621      -0.260\n",
      "sigma2       8.43e-06   1.25e-06      6.742      0.000    5.98e-06    1.09e-05\n",
      "===================================================================================\n",
      "Ljung-Box (L1) (Q):                   0.10   Jarque-Bera (JB):                 1.81\n",
      "Prob(Q):                              0.76   Prob(JB):                         0.40\n",
      "Heteroskedasticity (H):               0.74   Skew:                            -0.20\n",
      "Prob(H) (two-sided):                  0.44   Kurtosis:                         3.61\n",
      "===================================================================================\n",
      "\n",
      "Warnings:\n",
      "[1] Covariance matrix calculated using the outer product of gradients (complex-step).\n"
     ]
    },
    {
     "name": "stderr",
     "output_type": "stream",
     "text": [
      "\n",
      " Bad direction in the line search;\n",
      "   refresh the lbfgs memory and restart the iteration.\n",
      "/opt/anaconda3/lib/python3.12/site-packages/statsmodels/base/model.py:607: ConvergenceWarning: Maximum Likelihood optimization failed to converge. Check mle_retvals\n",
      "  warnings.warn(\"Maximum Likelihood optimization failed to \"\n",
      "\n",
      " Line search cannot locate an adequate point after MAXLS\n",
      "  function and gradient evaluations.\n",
      "  Previous x, f and g restored.\n",
      " Possible causes: 1 error in function or gradient evaluation;\n",
      "                  2 rounding error dominate computation.\n"
     ]
    }
   ],
   "source": [
    "model = SARIMAX(data_train['cpi'], exog = data_train[['m2']], order = (1, 1, 0), seasonal_order = (1, 1, 0, 12)\n",
    "                , enforce_stationarity = False, enforce_invertibility = False)\n",
    "model_fit = model.fit()\n",
    "print(model_fit.summary())"
   ]
  }
 ],
 "metadata": {
  "kernelspec": {
   "display_name": "Python [conda env:base] *",
   "language": "python",
   "name": "conda-base-py"
  },
  "language_info": {
   "codemirror_mode": {
    "name": "ipython",
    "version": 3
   },
   "file_extension": ".py",
   "mimetype": "text/x-python",
   "name": "python",
   "nbconvert_exporter": "python",
   "pygments_lexer": "ipython3",
   "version": "3.12.7"
  }
 },
 "nbformat": 4,
 "nbformat_minor": 5
}
